{
 "cells": [
  {
   "cell_type": "code",
   "execution_count": 1,
   "id": "dbf68467-915a-4c1b-b322-52f515534983",
   "metadata": {},
   "outputs": [],
   "source": [
    "import pandas as pd\n",
    "import numpy as np"
   ]
  },
  {
   "cell_type": "code",
   "execution_count": 2,
   "id": "e8f90bdc-efb8-458a-a832-def3a1fb9076",
   "metadata": {},
   "outputs": [],
   "source": [
    "pd_vector = pd.DataFrame({\"num\" : range(1,101)})"
   ]
  },
  {
   "cell_type": "code",
   "execution_count": 3,
   "id": "36fff466-9c4b-403b-8eb9-cd999993e02a",
   "metadata": {},
   "outputs": [
    {
     "data": {
      "text/html": [
       "<div>\n",
       "<style scoped>\n",
       "    .dataframe tbody tr th:only-of-type {\n",
       "        vertical-align: middle;\n",
       "    }\n",
       "\n",
       "    .dataframe tbody tr th {\n",
       "        vertical-align: top;\n",
       "    }\n",
       "\n",
       "    .dataframe thead th {\n",
       "        text-align: right;\n",
       "    }\n",
       "</style>\n",
       "<table border=\"1\" class=\"dataframe\">\n",
       "  <thead>\n",
       "    <tr style=\"text-align: right;\">\n",
       "      <th></th>\n",
       "      <th>num</th>\n",
       "    </tr>\n",
       "  </thead>\n",
       "  <tbody>\n",
       "    <tr>\n",
       "      <th>0</th>\n",
       "      <td>1</td>\n",
       "    </tr>\n",
       "    <tr>\n",
       "      <th>1</th>\n",
       "      <td>2</td>\n",
       "    </tr>\n",
       "    <tr>\n",
       "      <th>2</th>\n",
       "      <td>3</td>\n",
       "    </tr>\n",
       "    <tr>\n",
       "      <th>3</th>\n",
       "      <td>4</td>\n",
       "    </tr>\n",
       "    <tr>\n",
       "      <th>4</th>\n",
       "      <td>5</td>\n",
       "    </tr>\n",
       "    <tr>\n",
       "      <th>...</th>\n",
       "      <td>...</td>\n",
       "    </tr>\n",
       "    <tr>\n",
       "      <th>95</th>\n",
       "      <td>96</td>\n",
       "    </tr>\n",
       "    <tr>\n",
       "      <th>96</th>\n",
       "      <td>97</td>\n",
       "    </tr>\n",
       "    <tr>\n",
       "      <th>97</th>\n",
       "      <td>98</td>\n",
       "    </tr>\n",
       "    <tr>\n",
       "      <th>98</th>\n",
       "      <td>99</td>\n",
       "    </tr>\n",
       "    <tr>\n",
       "      <th>99</th>\n",
       "      <td>100</td>\n",
       "    </tr>\n",
       "  </tbody>\n",
       "</table>\n",
       "<p>100 rows × 1 columns</p>\n",
       "</div>"
      ],
      "text/plain": [
       "    num\n",
       "0     1\n",
       "1     2\n",
       "2     3\n",
       "3     4\n",
       "4     5\n",
       "..  ...\n",
       "95   96\n",
       "96   97\n",
       "97   98\n",
       "98   99\n",
       "99  100\n",
       "\n",
       "[100 rows x 1 columns]"
      ]
     },
     "execution_count": 3,
     "metadata": {},
     "output_type": "execute_result"
    }
   ],
   "source": [
    "pd_vector"
   ]
  },
  {
   "cell_type": "code",
   "execution_count": 4,
   "id": "01f31198-2e7f-4501-ad0d-c58a7c1d3338",
   "metadata": {},
   "outputs": [
    {
     "data": {
      "text/plain": [
       "833.25"
      ]
     },
     "execution_count": 4,
     "metadata": {},
     "output_type": "execute_result"
    }
   ],
   "source": [
    "np.var( pd_vector[\"num\"] ) ##Calcula la varianza"
   ]
  },
  {
   "cell_type": "code",
   "execution_count": 5,
   "id": "2b674a57-7609-40f3-a2c0-fbce99d15274",
   "metadata": {},
   "outputs": [
    {
     "data": {
      "text/plain": [
       "28.86607004772212"
      ]
     },
     "execution_count": 5,
     "metadata": {},
     "output_type": "execute_result"
    }
   ],
   "source": [
    "np.std( pd_vector[\"num\"] ) ##Calcula la desviación estándar"
   ]
  },
  {
   "cell_type": "markdown",
   "id": "9d573390-2915-45fd-a540-19c81cc56cb3",
   "metadata": {
    "tags": []
   },
   "source": [
    "Responda los siguientes ejercicios\n",
    "=================================="
   ]
  },
  {
   "cell_type": "markdown",
   "id": "547a4e4f-4ec2-4f22-9e4c-b01d93aff76f",
   "metadata": {
    "tags": []
   },
   "source": [
    "1.Grafique el Boxplot del vector \"num\"\n",
    "---"
   ]
  },
  {
   "cell_type": "code",
   "execution_count": 6,
   "id": "b1fa3114-01df-4f8a-ae85-6a7fe1fedebc",
   "metadata": {},
   "outputs": [
    {
     "data": {
      "text/plain": [
       "<AxesSubplot:>"
      ]
     },
     "execution_count": 6,
     "metadata": {},
     "output_type": "execute_result"
    },
    {
     "data": {
      "image/png": "[encoded data removed]",
      "text/plain": [
       "<Figure size 432x288 with 1 Axes>"
      ]
     },
     "metadata": {
      "needs_background": "light"
     },
     "output_type": "display_data"
    }
   ],
   "source": [
    "pd_vector.boxplot()"
   ]
  },
  {
   "cell_type": "markdown",
   "id": "39e42a3b-b20a-4a2c-b57b-7e902be9253c",
   "metadata": {
    "tags": []
   },
   "source": [
    "# 2.Calcule la varianza y desviacion estandar de cada uno de los quartiles"
   ]
  },
  {
   "cell_type": "code",
   "execution_count": 7,
   "id": "234b982d-d8a8-4440-8f45-70b181dbc435",
   "metadata": {},
   "outputs": [],
   "source": [
    "df1 = pd.DataFrame({\"num\" : range(1,26)})\n",
    "df2 = pd.DataFrame({\"num\" : range(26,51)})\n",
    "df3 = pd.DataFrame({\"num\" : range(51,76)})\n",
    "df4 = pd.DataFrame({\"num\" : range(76,101)})"
   ]
  },
  {
   "cell_type": "markdown",
   "id": "94a0bfcf-8b7f-427e-9fbb-923d811a3fa1",
   "metadata": {
    "tags": []
   },
   "source": [
    "Cuartil 1\n",
    "---"
   ]
  },
  {
   "cell_type": "code",
   "execution_count": 8,
   "id": "3a263e44-ffe2-4663-ac4c-a99339749c07",
   "metadata": {},
   "outputs": [
    {
     "data": {
      "text/plain": [
       "num    52.0\n",
       "dtype: float64"
      ]
     },
     "execution_count": 8,
     "metadata": {},
     "output_type": "execute_result"
    }
   ],
   "source": [
    "np.var(df1)"
   ]
  },
  {
   "cell_type": "code",
   "execution_count": 9,
   "id": "bdfbc5f0-496d-410f-9c32-8d09821dbf2e",
   "metadata": {},
   "outputs": [
    {
     "data": {
      "text/plain": [
       "num    7.211103\n",
       "dtype: float64"
      ]
     },
     "execution_count": 9,
     "metadata": {},
     "output_type": "execute_result"
    }
   ],
   "source": [
    "np.std(df1)"
   ]
  },
  {
   "cell_type": "markdown",
   "id": "d73c8688-3112-4d84-b94b-eff8e8259635",
   "metadata": {},
   "source": [
    "Cuartil 2\n",
    "---"
   ]
  },
  {
   "cell_type": "code",
   "execution_count": 10,
   "id": "65e0bea0-dcd1-494e-862b-2ea3d102019e",
   "metadata": {},
   "outputs": [
    {
     "data": {
      "text/plain": [
       "num    52.0\n",
       "dtype: float64"
      ]
     },
     "execution_count": 10,
     "metadata": {},
     "output_type": "execute_result"
    }
   ],
   "source": [
    "np.var(df2)"
   ]
  },
  {
   "cell_type": "code",
   "execution_count": 11,
   "id": "9a6ecd61-9ada-466a-8773-db508d938c83",
   "metadata": {},
   "outputs": [
    {
     "data": {
      "text/plain": [
       "num    7.211103\n",
       "dtype: float64"
      ]
     },
     "execution_count": 11,
     "metadata": {},
     "output_type": "execute_result"
    }
   ],
   "source": [
    "np.std(df2)"
   ]
  },
  {
   "cell_type": "markdown",
   "id": "9c4981da-0cd0-45f3-99b5-3a6cc3b8c48f",
   "metadata": {},
   "source": [
    "Cuartil 3\n",
    "---"
   ]
  },
  {
   "cell_type": "code",
   "execution_count": 12,
   "id": "b6f7d910-3922-4669-8687-f5ef9277cff0",
   "metadata": {},
   "outputs": [
    {
     "data": {
      "text/plain": [
       "num    52.0\n",
       "dtype: float64"
      ]
     },
     "execution_count": 12,
     "metadata": {},
     "output_type": "execute_result"
    }
   ],
   "source": [
    "np.var(df3)"
   ]
  },
  {
   "cell_type": "code",
   "execution_count": 13,
   "id": "71b0b037-dcb9-4a74-bb99-f957f492cf98",
   "metadata": {},
   "outputs": [
    {
     "data": {
      "text/plain": [
       "num    7.211103\n",
       "dtype: float64"
      ]
     },
     "execution_count": 13,
     "metadata": {},
     "output_type": "execute_result"
    }
   ],
   "source": [
    "np.std(df3)"
   ]
  },
  {
   "cell_type": "markdown",
   "id": "994e0b66-19c3-44c0-9490-8b29588ef86e",
   "metadata": {
    "tags": []
   },
   "source": [
    "Cuartil 4\n",
    "---"
   ]
  },
  {
   "cell_type": "code",
   "execution_count": 14,
   "id": "24007476-677d-4201-af28-72a3a3dac4c5",
   "metadata": {},
   "outputs": [
    {
     "data": {
      "text/plain": [
       "num    52.0\n",
       "dtype: float64"
      ]
     },
     "execution_count": 14,
     "metadata": {},
     "output_type": "execute_result"
    }
   ],
   "source": [
    "np.var(df4)"
   ]
  },
  {
   "cell_type": "code",
   "execution_count": 15,
   "id": "a1b023ec-98bd-40b9-af80-c0bb206fe03b",
   "metadata": {},
   "outputs": [
    {
     "data": {
      "text/plain": [
       "num    7.211103\n",
       "dtype: float64"
      ]
     },
     "execution_count": 15,
     "metadata": {},
     "output_type": "execute_result"
    }
   ],
   "source": [
    "np.std(df4)"
   ]
  },
  {
   "cell_type": "markdown",
   "id": "c791b329-5ca1-4037-a361-56237695e9cd",
   "metadata": {},
   "source": [
    "# 3.Explique la respuesta que obtuvo en el ejercicio dos, recuerde que se puede apoyar del gráfico del ejercicio uno para hacer referencias sobre distribución en caso de que sea necesario"
   ]
  },
  {
   "cell_type": "markdown",
   "id": "97f98b7b-883d-4073-aa6f-a46dde1da0ff",
   "metadata": {},
   "source": [
    "En el ejercicio dos obtuve las mismas respuestas de la varianza y la desviación estándar en cada uno de los cuartiles, la varianza es igual porque el tamaño de los cuartiles es igual y la variabilidad que tienen los datos con respecto a su media es la misma; la desviación estándar es igual en todos los cuartiles debido a que el promedio de las desviaciones de cada uno de los datos en los cuartiles, con respecto a su media, es el mismo."
   ]
  }
 ],
 "metadata": {
  "kernelspec": {
   "display_name": "Python 3 (ipykernel)",
   "language": "python",
   "name": "python3"
  },
  "language_info": {
   "codemirror_mode": {
    "name": "ipython",
    "version": 3
   },
   "file_extension": ".py",
   "mimetype": "text/x-python",
   "name": "python",
   "nbconvert_exporter": "python",
   "pygments_lexer": "ipython3",
   "version": "3.9.12"
  }
 },
 "nbformat": 4,
 "nbformat_minor": 5
}
